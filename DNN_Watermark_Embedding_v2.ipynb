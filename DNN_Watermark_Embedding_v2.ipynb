{
  "nbformat": 4,
  "nbformat_minor": 0,
  "metadata": {
    "colab": {
      "name": "DNN Watermark Embedding v2.ipynb",
      "private_outputs": true,
      "provenance": [],
      "collapsed_sections": [],
      "authorship_tag": "ABX9TyNN1uF11yyftn2o5GI+/D8b",
      "include_colab_link": true
    },
    "kernelspec": {
      "name": "python3",
      "display_name": "Python 3"
    },
    "language_info": {
      "name": "python"
    }
  },
  "cells": [
    {
      "cell_type": "markdown",
      "metadata": {
        "id": "view-in-github",
        "colab_type": "text"
      },
      "source": [
        "<a href=\"https://colab.research.google.com/github/NhutNguyen347/DNN-Watermark-embedding/blob/main/DNN_Watermark_Embedding_v2.ipynb\" target=\"_parent\"><img src=\"https://colab.research.google.com/assets/colab-badge.svg\" alt=\"Open In Colab\"/></a>"
      ]
    },
    {
      "cell_type": "markdown",
      "metadata": {
        "id": "9YZXAIZB7lMW"
      },
      "source": [
        "# DNN Watermark embedding Demo\n"
      ]
    },
    {
      "cell_type": "code",
      "metadata": {
        "id": "ev065A2xkrhz"
      },
      "source": [
        " # this project combines the ideas behind the watermarking\n",
        " # frameworks of Rouhani et al. (2019) and Quan et al. (2020).\n",
        " \n",
        " \n",
        " # main program to watermark a DNN and\n",
        " # detect original ownership in a black-box setting\n",
        "\n",
        "import DeepMarks\n",
        "from DeepMarks import key_generation\n",
        "from DeepMarks import count_response_mismatch\n",
        "from DeepMarks import compute_mismatch_threshold\n",
        "\n",
        "import keras.utils.np_utils as kutils\n",
        "from topology import create_model\n",
        "from keras.optimizers import SGD\n",
        "from keras.datasets import mnist\n",
        "import numpy as np\n",
        "\n",
        "# from blackboxWM_mnistmlp import blackboxWM_demo\n",
        "\n",
        "if __name__ == '__main__':\n",
        "    \n",
        "    num_classes = 10\n",
        "    batch_size = 128\n",
        "\n",
        "    # the data, shuffled and split between train and test sets\n",
        "    (x_train, y_train), (x_test, y_test) = mnist.load_data()\n",
        "    x_train = x_train.reshape(60000, 784)\n",
        "    x_test = x_test.reshape(10000, 784)\n",
        "    x_train = x_train.astype('float32')\n",
        "    x_test = x_test.astype('float32')\n",
        "    x_train /= 255\n",
        "    x_test /= 255\n",
        "\n",
        "    # convert class vectors to binary class matrices\n",
        "    y_train = kutils.to_categorical(y_train, num_classes)\n",
        "    y_test = kutils.to_categorical(y_test, num_classes)\n",
        "\n",
        "\n",
        "    key_len = 20              ## desired WM key length\n",
        "    embed_lr = 0.0008\n",
        "    p_threshold = 0.0001\n",
        "    embed_epoch = 2 \n",
        "\n",
        "    ## ---- Embed WM ------ ##\n",
        "    model = create_model()\n",
        "    model.load_weights('result/unmarked_weights.h5')\n",
        "    model.compile(loss='categorical_crossentropy',\n",
        "                optimizer=SGD(lr=embed_lr, momentum=0.9, decay=0.0, nesterov=True), metrics=['accuracy'])\n",
        "    X_key, Y_key = key_generation(x_train, y_train, model, key_len, num_classes, embed_epoch)\n",
        "\n",
        "\n",
        "    ## ----- Detect WM ------ ##\n",
        "    marked_model = create_model()\n",
        "    marked_model.load_weights('result/markedWeights'+'.h5')\n",
        "    marked_model.compile(loss='categorical_crossentropy',\n",
        "                optimizer=SGD(lr=embed_lr, momentum=0.9, decay=0.0, nesterov=True), metrics=['accuracy'])\n",
        "    preds_onehot = marked_model.predict(X_key, batch_size = batch_size )\n",
        "    Y_preds = np.reshape(np.argmax(preds_onehot, axis=1), (key_len, 1))\n",
        "    m = count_response_mismatch(Y_preds, Y_key)\n",
        "    theta = compute_mismatch_threshold(C=num_classes, Kp=key_len, p=p_threshold) # pk = 1/C, |K|: # trials\n",
        "\n",
        "    print('Probability threshold p is ', p_threshold)\n",
        "    print('Mismatch threshold is : ', theta)\n",
        "    print('Mismatch count of marked model on WM key set = ', m)\n",
        "    print(\"If the marked model is correctly authenticated by owner: \", m < theta)\n"
      ],
      "execution_count": null,
      "outputs": []
    },
    {
      "cell_type": "markdown",
      "metadata": {
        "id": "2BQel9J1k6lK"
      },
      "source": [
        "# References\n",
        "\n",
        "https://github.com/DeepMarks/DNN-Watermarking\n",
        "\n",
        "End2End Embedding: https://www.microsoft.com/en-us/research/uploads/prod/2018/11/2019ASPLOS_Final_DeepSigns.pdf\n",
        "\n",
        "DeepSigns API: https://github.com/Bitadr/DeepSigns"
      ]
    }
  ]
}